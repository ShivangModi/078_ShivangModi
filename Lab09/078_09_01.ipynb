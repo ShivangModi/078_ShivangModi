{
  "nbformat": 4,
  "nbformat_minor": 0,
  "metadata": {
    "colab": {
      "name": "078_09_01.ipynb",
      "provenance": [],
      "collapsed_sections": []
    },
    "kernelspec": {
      "name": "python3",
      "display_name": "Python 3"
    },
    "language_info": {
      "name": "python"
    }
  },
  "cells": [
    {
      "cell_type": "markdown",
      "metadata": {
        "id": "L_RjDSdvGbho"
      },
      "source": [
        "# **SVM classifier on MNIST dataset**\n",
        "### **Compare the performance of linear, polynomial and RBF kernels.**"
      ]
    },
    {
      "cell_type": "code",
      "metadata": {
        "id": "cMtQxWk8GT0L"
      },
      "source": [
        "import sys, os\n",
        "import numpy as np\n",
        "import pandas as pd\n",
        "import matplotlib.pyplot as plt\n",
        "\n",
        "from sklearn import svm, metrics\n",
        "from sklearn.datasets import load_digits\n",
        "from sklearn.model_selection import train_test_split"
      ],
      "execution_count": 29,
      "outputs": []
    },
    {
      "cell_type": "code",
      "metadata": {
        "colab": {
          "base_uri": "https://localhost:8080/"
        },
        "id": "RRkis_SMG9w0",
        "outputId": "be47f915-6ea9-43a9-e0fd-cec8544b4143"
      },
      "source": [
        "digits = load_digits()\n",
        "digits.data.shape"
      ],
      "execution_count": 30,
      "outputs": [
        {
          "output_type": "execute_result",
          "data": {
            "text/plain": [
              "(1797, 64)"
            ]
          },
          "metadata": {},
          "execution_count": 30
        }
      ]
    },
    {
      "cell_type": "code",
      "metadata": {
        "colab": {
          "base_uri": "https://localhost:8080/"
        },
        "id": "bwS0CIEHHFM-",
        "outputId": "63372514-6128-4c24-b539-20abe1163fbd"
      },
      "source": [
        "digits.target"
      ],
      "execution_count": 31,
      "outputs": [
        {
          "output_type": "execute_result",
          "data": {
            "text/plain": [
              "array([0, 1, 2, ..., 8, 9, 8])"
            ]
          },
          "metadata": {},
          "execution_count": 31
        }
      ]
    },
    {
      "cell_type": "code",
      "metadata": {
        "id": "Z9H8CApuHKwH"
      },
      "source": [
        "x_train, x_test, y_train, y_test = train_test_split(digits.data, digits.target, test_size=0.3, random_state=78)"
      ],
      "execution_count": 32,
      "outputs": []
    },
    {
      "cell_type": "markdown",
      "metadata": {
        "id": "A1I8iFK1HVQR"
      },
      "source": [
        "### **Linear SVM kernel**"
      ]
    },
    {
      "cell_type": "code",
      "metadata": {
        "colab": {
          "base_uri": "https://localhost:8080/"
        },
        "id": "T-puWASVHeEU",
        "outputId": "a79e6eda-c024-49e2-ae95-8bf379f2eb04"
      },
      "source": [
        "lsvm = svm.SVC(kernel='linear')\n",
        "lsvm.fit(x_train, y_train)"
      ],
      "execution_count": 33,
      "outputs": [
        {
          "output_type": "execute_result",
          "data": {
            "text/plain": [
              "SVC(C=1.0, break_ties=False, cache_size=200, class_weight=None, coef0=0.0,\n",
              "    decision_function_shape='ovr', degree=3, gamma='scale', kernel='linear',\n",
              "    max_iter=-1, probability=False, random_state=None, shrinking=True,\n",
              "    tol=0.001, verbose=False)"
            ]
          },
          "metadata": {},
          "execution_count": 33
        }
      ]
    },
    {
      "cell_type": "code",
      "metadata": {
        "colab": {
          "base_uri": "https://localhost:8080/"
        },
        "id": "RvTPfretH_U6",
        "outputId": "66286f13-1d1f-4bd9-e845-06c4b0885bb3"
      },
      "source": [
        "lin_y_pred = lsvm.predict(x_test)\n",
        "print(f\"Accuracy: {metrics.accuracy_score(y_test, lin_y_pred)}\")"
      ],
      "execution_count": 34,
      "outputs": [
        {
          "output_type": "stream",
          "name": "stdout",
          "text": [
            "Accuracy: 0.9814814814814815\n"
          ]
        }
      ]
    },
    {
      "cell_type": "markdown",
      "metadata": {
        "id": "w6AF-gibIPUF"
      },
      "source": [
        "### **RBM SVM kernel**"
      ]
    },
    {
      "cell_type": "code",
      "metadata": {
        "colab": {
          "base_uri": "https://localhost:8080/"
        },
        "id": "C9XIvBkwIZ7t",
        "outputId": "6ff9f3f2-4e25-49f4-a1d3-e95935250507"
      },
      "source": [
        "rbf_svm = svm.SVC(kernel='rbf')\n",
        "rbf_svm.fit(x_train, y_train)"
      ],
      "execution_count": 35,
      "outputs": [
        {
          "output_type": "execute_result",
          "data": {
            "text/plain": [
              "SVC(C=1.0, break_ties=False, cache_size=200, class_weight=None, coef0=0.0,\n",
              "    decision_function_shape='ovr', degree=3, gamma='scale', kernel='rbf',\n",
              "    max_iter=-1, probability=False, random_state=None, shrinking=True,\n",
              "    tol=0.001, verbose=False)"
            ]
          },
          "metadata": {},
          "execution_count": 35
        }
      ]
    },
    {
      "cell_type": "code",
      "metadata": {
        "colab": {
          "base_uri": "https://localhost:8080/"
        },
        "id": "sv43CKo2IsFd",
        "outputId": "f7a8b182-75bc-4ba6-ef67-eee8ddada3e1"
      },
      "source": [
        "rbf_pred = rbf_svm.predict(x_test)\n",
        "print(f\"Accuracy: {metrics.accuracy_score(y_test, rbf_pred)}\")"
      ],
      "execution_count": 36,
      "outputs": [
        {
          "output_type": "stream",
          "name": "stdout",
          "text": [
            "Accuracy: 0.9907407407407407\n"
          ]
        }
      ]
    },
    {
      "cell_type": "markdown",
      "metadata": {
        "id": "LcFRDWyeJU0q"
      },
      "source": [
        "### **Polynomial SVM kernel**"
      ]
    },
    {
      "cell_type": "code",
      "metadata": {
        "colab": {
          "base_uri": "https://localhost:8080/"
        },
        "id": "rTKPpknPJihQ",
        "outputId": "861edfb2-7311-439a-b6f6-848555566782"
      },
      "source": [
        "poly_svm = svm.SVC(kernel='poly')\n",
        "poly_svm.fit(x_train, y_train)"
      ],
      "execution_count": 37,
      "outputs": [
        {
          "output_type": "execute_result",
          "data": {
            "text/plain": [
              "SVC(C=1.0, break_ties=False, cache_size=200, class_weight=None, coef0=0.0,\n",
              "    decision_function_shape='ovr', degree=3, gamma='scale', kernel='poly',\n",
              "    max_iter=-1, probability=False, random_state=None, shrinking=True,\n",
              "    tol=0.001, verbose=False)"
            ]
          },
          "metadata": {},
          "execution_count": 37
        }
      ]
    },
    {
      "cell_type": "code",
      "metadata": {
        "colab": {
          "base_uri": "https://localhost:8080/"
        },
        "id": "TAal_CLCJtqz",
        "outputId": "bf83766a-f50e-486d-eb17-e8adba20f3af"
      },
      "source": [
        "poly_pred = poly_svm.predict(x_test)\n",
        "print(f\"Accuracy: {metrics.accuracy_score(y_test, poly_pred)}\")"
      ],
      "execution_count": 38,
      "outputs": [
        {
          "output_type": "stream",
          "name": "stdout",
          "text": [
            "Accuracy: 0.9944444444444445\n"
          ]
        }
      ]
    }
  ]
}
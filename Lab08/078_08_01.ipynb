{
  "nbformat": 4,
  "nbformat_minor": 0,
  "metadata": {
    "colab": {
      "name": "078_08_01.ipynb",
      "provenance": [],
      "collapsed_sections": []
    },
    "kernelspec": {
      "name": "python3",
      "display_name": "Python 3"
    },
    "language_info": {
      "name": "python"
    }
  },
  "cells": [
    {
      "cell_type": "markdown",
      "metadata": {
        "id": "-30MQMN-H6cu"
      },
      "source": [
        "## **Write a python program to perform K-Means clustering on Breast Cancer Data**"
      ]
    },
    {
      "cell_type": "code",
      "metadata": {
        "id": "xRv5vPTuHyrv"
      },
      "source": [
        "import numpy as np\n",
        "import pandas as pd\n",
        "import matplotlib.pyplot as plt\n",
        "\n",
        "from sklearn import datasets\n",
        "from sklearn.cluster import KMeans\n",
        "from sklearn.metrics import confusion_matrix, accuracy_score"
      ],
      "execution_count": 1,
      "outputs": []
    },
    {
      "cell_type": "code",
      "metadata": {
        "colab": {
          "base_uri": "https://localhost:8080/"
        },
        "id": "qI5sDRnVIwkM",
        "outputId": "2015dd7e-5033-4eee-e550-8bb00c1eb5cf"
      },
      "source": [
        "dataset = datasets.load_breast_cancer()\n",
        "\n",
        "print(f\"Shape: {dataset.data.shape}\")\n",
        "print(f\"Target Shape: {dataset.target.shape}\")\n",
        "print(f\"Features: {dataset.feature_names}\")\n",
        "print(f\"Target Names: {dataset.target_names}\")"
      ],
      "execution_count": 2,
      "outputs": [
        {
          "output_type": "stream",
          "name": "stdout",
          "text": [
            "Shape: (569, 30)\n",
            "Target Shape: (569,)\n",
            "Features: ['mean radius' 'mean texture' 'mean perimeter' 'mean area'\n",
            " 'mean smoothness' 'mean compactness' 'mean concavity'\n",
            " 'mean concave points' 'mean symmetry' 'mean fractal dimension'\n",
            " 'radius error' 'texture error' 'perimeter error' 'area error'\n",
            " 'smoothness error' 'compactness error' 'concavity error'\n",
            " 'concave points error' 'symmetry error' 'fractal dimension error'\n",
            " 'worst radius' 'worst texture' 'worst perimeter' 'worst area'\n",
            " 'worst smoothness' 'worst compactness' 'worst concavity'\n",
            " 'worst concave points' 'worst symmetry' 'worst fractal dimension']\n",
            "Target Names: ['malignant' 'benign']\n"
          ]
        }
      ]
    },
    {
      "cell_type": "code",
      "metadata": {
        "colab": {
          "base_uri": "https://localhost:8080/",
          "height": 279
        },
        "id": "AV8v9XKrI4eC",
        "outputId": "780844ee-94d4-4167-f945-24d057d083b1"
      },
      "source": [
        "# 0 means benign and 1 means malignant\n",
        "plt.scatter(dataset.data[:, 0], dataset.target, c='red', marker=\"*\")\n",
        "plt.xlabel(\"Features\")\n",
        "plt.ylabel(\"Cancer Type\")\n",
        "plt.show()"
      ],
      "execution_count": 3,
      "outputs": [
        {
          "output_type": "display_data",
          "data": {
            "image/png": "[encoded data removed]",
            "text/plain": [
              "<Figure size 432x288 with 1 Axes>"
            ]
          },
          "metadata": {
            "needs_background": "light"
          }
        }
      ]
    },
    {
      "cell_type": "code",
      "metadata": {
        "colab": {
          "base_uri": "https://localhost:8080/"
        },
        "id": "Ii7CXGqVJCYk",
        "outputId": "e7651572-74eb-4bb0-d76c-ac19a3b78c36"
      },
      "source": [
        "kmeans = KMeans(n_clusters=3, random_state=78)\n",
        "prediction = kmeans.fit_predict(dataset.data)\n",
        "print(prediction)"
      ],
      "execution_count": 4,
      "outputs": [
        {
          "output_type": "stream",
          "name": "stdout",
          "text": [
            "[0 0 0 1 0 1 0 1 1 1 0 0 0 1 1 1 0 0 2 1 1 1 1 2 0 0 1 0 0 0 0 1 0 0 0 0 1\n",
            " 1 1 1 1 1 0 1 1 0 1 1 1 1 1 1 1 0 1 1 0 1 1 1 1 1 1 1 1 1 1 1 1 1 0 1 0 1\n",
            " 1 0 1 0 0 1 1 1 2 0 1 0 1 0 1 1 1 1 1 1 1 0 1 1 1 1 1 1 1 1 1 1 1 1 2 1 1\n",
            " 1 1 1 1 1 1 1 0 0 1 0 2 1 1 1 1 0 1 0 1 0 0 1 0 1 1 1 1 1 1 0 1 1 1 1 1 1\n",
            " 1 1 1 1 1 1 1 1 0 0 1 1 1 0 0 1 2 1 1 0 0 1 1 1 0 1 1 1 1 1 1 1 2 0 0 1 1\n",
            " 1 0 1 1 1 1 1 1 1 1 1 1 0 0 1 1 0 0 1 1 1 1 0 1 1 0 1 2 0 1 1 1 1 0 2 1 1\n",
            " 1 0 1 1 1 1 1 1 0 1 1 0 1 1 2 0 1 0 1 1 1 1 0 1 1 1 1 1 0 1 0 0 0 1 0 1 0\n",
            " 1 0 0 0 1 0 2 1 1 1 1 1 1 2 1 0 1 1 0 1 1 0 1 0 1 1 1 1 1 1 1 1 1 1 1 1 1\n",
            " 1 1 1 1 0 1 0 1 1 1 1 1 1 1 1 1 1 1 1 1 1 0 1 1 1 0 1 0 1 1 1 1 0 1 0 1 1\n",
            " 1 1 0 1 0 1 2 1 1 1 0 1 1 1 1 1 1 1 1 2 1 1 1 1 1 1 1 1 1 1 1 1 0 0 1 2 2\n",
            " 0 1 0 0 1 1 1 1 1 1 1 1 1 1 1 1 1 1 1 0 1 1 0 0 1 1 1 1 1 1 0 1 1 1 1 1 1\n",
            " 1 0 1 1 1 1 1 1 1 1 0 1 1 1 1 1 1 1 1 1 1 1 1 1 1 0 0 1 1 1 1 1 1 1 0 1 1\n",
            " 0 1 0 1 1 0 1 0 1 1 1 1 1 1 1 1 0 2 1 1 1 1 1 1 0 1 1 1 1 1 1 1 1 1 1 1 1\n",
            " 1 1 1 1 1 1 0 1 0 1 0 0 1 1 1 1 1 0 0 1 1 1 2 1 1 1 1 1 1 1 1 1 1 1 1 0 0\n",
            " 1 1 1 2 1 1 1 1 1 1 1 1 1 1 1 0 1 0 1 1 1 1 1 1 1 1 1 1 1 1 1 1 1 1 1 1 1\n",
            " 1 1 1 1 1 1 1 1 0 0 0 0 0 1]\n"
          ]
        }
      ]
    },
    {
      "cell_type": "code",
      "metadata": {
        "colab": {
          "base_uri": "https://localhost:8080/"
        },
        "id": "laUpKoW0JYc9",
        "outputId": "a6cb23ab-d8d4-4252-c70c-5e87497f857b"
      },
      "source": [
        "print(kmeans.cluster_centers_.shape)\n",
        "print(kmeans.cluster_centers_)"
      ],
      "execution_count": 5,
      "outputs": [
        {
          "output_type": "stream",
          "name": "stdout",
          "text": [
            "(3, 30)\n",
            "[[1.84309600e+01 2.14308000e+01 1.21615520e+02 1.06422560e+03\n",
            "  1.00427120e-01 1.41168160e-01 1.60892080e-01 9.15133600e-02\n",
            "  1.91358400e-01 6.07022400e-02 6.40993600e-01 1.20602880e+00\n",
            "  4.50466400e+00 7.56068000e+01 6.57389600e-03 3.10533280e-02\n",
            "  4.12840000e-02 1.54203840e-02 2.00368000e-02 3.94023200e-03\n",
            "  2.22756000e+01 2.86554400e+01 1.48283200e+02 1.53216800e+03\n",
            "  1.39557440e-01 3.46571680e-01 4.31695200e-01 1.82111600e-01\n",
            "  3.15973600e-01 8.65140000e-02]\n",
            " [1.24468918e+01 1.85046588e+01 8.03803294e+01 4.86458118e+02\n",
            "  9.48157176e-02 9.04881882e-02 6.08800016e-02 3.25494682e-02\n",
            "  1.77951765e-01 6.35771765e-02 3.00681647e-01 1.21837294e+00\n",
            "  2.12940400e+00 2.32080188e+01 7.17541647e-03 2.33490235e-02\n",
            "  2.84143873e-02 1.05452329e-02 2.07137600e-02 3.75171835e-03\n",
            "  1.38918094e+01 2.45948235e+01 9.09125412e+01 6.04658353e+02\n",
            "  1.29845529e-01 2.21074000e-01 2.14822228e-01 8.97035082e-02\n",
            "  2.82468471e-01 8.32831059e-02]\n",
            " [2.34015789e+01 2.27621053e+01 1.56147368e+02 1.72942105e+03\n",
            "  1.04154211e-01 1.71922105e-01 2.39015789e-01 1.34857895e-01\n",
            "  1.85884211e-01 5.91452632e-02 1.19100000e+00 1.25407895e+00\n",
            "  8.56357895e+00 1.91449474e+02 7.10673684e-03 3.64242105e-02\n",
            "  4.79426316e-02 1.59331579e-02 2.00326316e-02 3.80478947e-03\n",
            "  2.99315789e+01 3.02952632e+01 2.03073684e+02 2.76584211e+03\n",
            "  1.41510526e-01 3.89415789e-01 5.05994737e-01 2.27526316e-01\n",
            "  2.89852632e-01 8.18736842e-02]]\n"
          ]
        }
      ]
    },
    {
      "cell_type": "code",
      "metadata": {
        "colab": {
          "base_uri": "https://localhost:8080/",
          "height": 281
        },
        "id": "oHXEO7n6JbYG",
        "outputId": "e3f4ce3c-4dd6-4e07-a96d-121c4f5c7c09"
      },
      "source": [
        "plt.scatter(dataset.data[:, 0], dataset.target, c='red', marker='*')\n",
        "plt.scatter(kmeans.cluster_centers_[:, 0], kmeans.cluster_centers_[:, 1], c='green', marker='+')\n",
        "plt.title('Data points and cluster centroids')\n",
        "plt.show()"
      ],
      "execution_count": 6,
      "outputs": [
        {
          "output_type": "display_data",
          "data": {
            "image/png": "[encoded data removed]",
            "text/plain": [
              "<Figure size 432x288 with 1 Axes>"
            ]
          },
          "metadata": {
            "needs_background": "light"
          }
        }
      ]
    },
    {
      "cell_type": "code",
      "metadata": {
        "id": "iZF8rYS3Jkov"
      },
      "source": [
        "from scipy.stats import mode\n",
        "\n",
        "labels = np.zeros_like(prediction)\n",
        "for i in range(10):\n",
        "    mask = (prediction == i)\n",
        "    labels[mask] = mode(dataset.target[mask])[0]"
      ],
      "execution_count": 7,
      "outputs": []
    },
    {
      "cell_type": "code",
      "metadata": {
        "colab": {
          "base_uri": "https://localhost:8080/",
          "height": 279
        },
        "id": "W_XiXmWUJq83",
        "outputId": "8960a66a-8a38-40e2-a932-1e3fc86fc232"
      },
      "source": [
        "import seaborn as sns\n",
        "\n",
        "conf_mat = confusion_matrix(dataset.target, labels)\n",
        "ax = sns.heatmap(conf_mat.T, square=True, annot=True, cbar=False, xticklabels=dataset.target_names, yticklabels=dataset.target_names)\n",
        "plt.xlabel(\"True Label\")\n",
        "plt.ylabel(\"Predicted Label\")\n",
        "plt.show()"
      ],
      "execution_count": 8,
      "outputs": [
        {
          "output_type": "display_data",
          "data": {
            "image/png": "[encoded data removed]",
            "text/plain": [
              "<Figure size 432x288 with 1 Axes>"
            ]
          },
          "metadata": {
            "needs_background": "light"
          }
        }
      ]
    },
    {
      "cell_type": "code",
      "metadata": {
        "colab": {
          "base_uri": "https://localhost:8080/"
        },
        "id": "MQ6kDoaPJ0bM",
        "outputId": "e5d610c2-fe34-40a6-b06a-a976f3d77328"
      },
      "source": [
        "print(f\"Accuracy score: {accuracy_score(dataset.target, labels)}\")"
      ],
      "execution_count": 9,
      "outputs": [
        {
          "output_type": "stream",
          "name": "stdout",
          "text": [
            "Accuracy score: 0.8734622144112478\n"
          ]
        }
      ]
    }
  ]
}
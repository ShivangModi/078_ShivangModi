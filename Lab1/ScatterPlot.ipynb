{
  "nbformat": 4,
  "nbformat_minor": 0,
  "metadata": {
    "colab": {
      "name": "ScatterPlot.ipynb",
      "provenance": []
    },
    "kernelspec": {
      "name": "python3",
      "display_name": "Python 3"
    },
    "language_info": {
      "name": "python"
    }
  },
  "cells": [
    {
      "cell_type": "code",
      "metadata": {
        "colab": {
          "base_uri": "https://localhost:8080/",
          "height": 312
        },
        "id": "J4tDzKQrJyv6",
        "outputId": "a550f45a-d354-47bc-a6dd-13c05f9e16b2"
      },
      "source": [
        "import numpy as np\n",
        "import pandas as pd\n",
        "import matplotlib.pyplot as plt\n",
        "from google.colab import drive\n",
        "\n",
        "drive.mount('/content/drive', force_remount=True)\n",
        "data = pd.read_csv('/content/drive/My Drive/ML_Dataset/Data_for_Transformation.csv')\n",
        "\n",
        "# print(\"Data_for_Transformation:- \")\n",
        "# print(data,'\\n')\n",
        "\n",
        "# print(\"Count Country Name:- \")\n",
        "# d = pd.crosstab(index=data['Country'], columns=\"Count\", dropna=True)\n",
        "# print(d,'\\n')\n",
        "\n",
        "# print(\"Didplay Column Details:- \")\n",
        "# print(data.info(),'\\n')\n",
        "\n",
        "# Count Total Null values in each column\n",
        "# print(f\"Total Null Data:- {data.isnull().sum()}\")\n",
        "\n",
        "# Finding Scatter Plot between Age and Salary\n",
        "plt.scatter(data['Age'], data['Salary'])\n",
        "plt.xlabel(\"Age\")\n",
        "plt.ylabel(\"Salary\")\n",
        "plt.title(\"Scatter Plot between Age and Salary\")\n",
        "plt.show()"
      ],
      "execution_count": 15,
      "outputs": [
        {
          "output_type": "stream",
          "name": "stdout",
          "text": [
            "Mounted at /content/drive\n"
          ]
        },
        {
          "output_type": "display_data",
          "data": {
            "image/png": "[encoded data removed]",
            "text/plain": [
              "<Figure size 432x288 with 1 Axes>"
            ]
          },
          "metadata": {
            "needs_background": "light"
          }
        }
      ]
    }
  ]
}
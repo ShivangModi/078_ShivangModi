{
  "nbformat": 4,
  "nbformat_minor": 0,
  "metadata": {
    "colab": {
      "name": "Histogram.ipynb",
      "provenance": []
    },
    "kernelspec": {
      "name": "python3",
      "display_name": "Python 3"
    },
    "language_info": {
      "name": "python"
    }
  },
  "cells": [
    {
      "cell_type": "code",
      "metadata": {
        "colab": {
          "base_uri": "https://localhost:8080/",
          "height": 312
        },
        "id": "WfOMJAlSVo_E",
        "outputId": "914273fd-f472-4fe2-e549-714ceb2f7c60"
      },
      "source": [
        "import numpy as np\n",
        "import pandas as pd\n",
        "import matplotlib.pyplot as plt\n",
        "from google.colab import drive\n",
        "\n",
        "drive.mount('/content/drive', force_remount=True)\n",
        "data = pd.read_csv('/content/drive/My Drive/ML_Dataset/Data_for_Transformation.csv')\n",
        "\n",
        "# print(\"Data_for_Transformation:- \")\n",
        "# print(data,'\\n')\n",
        "\n",
        "# print(\"Count Country Name:- \")\n",
        "# d = pd.crosstab(index=data['Country'], columns=\"Count\", dropna=True)\n",
        "# print(d,'\\n')\n",
        "\n",
        "# print(\"Didplay Column Details:- \")\n",
        "# print(data.info(),'\\n')\n",
        "\n",
        "# Count Total Null values in each column\n",
        "# print(f\"Total Null Data:- {data.isnull().sum()}\")\n",
        "\n",
        "# Finding Histogram of Salary\n",
        "plt.hist(data['Salary'])\n",
        "plt.xlabel(\"Salary\")\n",
        "plt.ylabel(\"Frequency\")\n",
        "plt.title(\"Histogram of Salary\")\n",
        "plt.show()"
      ],
      "execution_count": 24,
      "outputs": [
        {
          "output_type": "stream",
          "name": "stdout",
          "text": [
            "Mounted at /content/drive\n"
          ]
        },
        {
          "output_type": "display_data",
          "data": {
            "image/png": "[encoded data removed]",
            "text/plain": [
              "<Figure size 432x288 with 1 Axes>"
            ]
          },
          "metadata": {
            "needs_background": "light"
          }
        }
      ]
    }
  ]
}
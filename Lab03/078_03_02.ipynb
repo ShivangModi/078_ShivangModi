{
  "nbformat": 4,
  "nbformat_minor": 0,
  "metadata": {
    "colab": {
      "name": "078_03_02.ipynb",
      "provenance": [],
      "collapsed_sections": []
    },
    "kernelspec": {
      "name": "python3",
      "display_name": "Python 3"
    },
    "language_info": {
      "name": "python"
    }
  },
  "cells": [
    {
      "cell_type": "code",
      "metadata": {
        "id": "8wXEF2-h4X7e"
      },
      "source": [
        "import numpy as np\n",
        "import pandas as pd\n",
        "import matplotlib.pyplot as plt\n",
        "\n",
        "from sklearn import preprocessing, metrics, datasets\n",
        "from sklearn.naive_bayes import GaussianNB\n",
        "from sklearn.model_selection import train_test_split"
      ],
      "execution_count": 2,
      "outputs": []
    },
    {
      "cell_type": "code",
      "metadata": {
        "colab": {
          "base_uri": "https://localhost:8080/"
        },
        "id": "MJFRaXoF-9mI",
        "outputId": "a48c8a60-281f-4c13-f35f-2cab91ffb8d4"
      },
      "source": [
        "# Import wine dataset and split it into train test\n",
        "data = datasets.load_wine()\n",
        "X_train, X_test, Y_train, Y_test = train_test_split(data.data, data.target, test_size=0.20, random_state=78)\n",
        "\n",
        "# Create train model\n",
        "mdl = GaussianNB()\n",
        "mdl.fit(X_train, Y_train)\n",
        "\n",
        "# Predict output\n",
        "Y_predict = mdl.predict(X_test)\n",
        "print(f\"Accuracy:- {metrics.accuracy_score(Y_test, Y_predict)}\")"
      ],
      "execution_count": 5,
      "outputs": [
        {
          "output_type": "stream",
          "name": "stdout",
          "text": [
            "Accuracy:- 1.0\n"
          ]
        }
      ]
    },
    {
      "cell_type": "code",
      "metadata": {
        "colab": {
          "base_uri": "https://localhost:8080/"
        },
        "id": "7LjF8oVVEY5l",
        "outputId": "e476b84a-6c83-4993-ea0d-95741bee2155"
      },
      "source": [
        "# Classification report\n",
        "print(f\"Classification Report:- \\n{metrics.classification_report(Y_test, Y_predict)}\")"
      ],
      "execution_count": 6,
      "outputs": [
        {
          "output_type": "stream",
          "name": "stdout",
          "text": [
            "Classification Report:- \n",
            "              precision    recall  f1-score   support\n",
            "\n",
            "           0       1.00      1.00      1.00        13\n",
            "           1       1.00      1.00      1.00        13\n",
            "           2       1.00      1.00      1.00        10\n",
            "\n",
            "    accuracy                           1.00        36\n",
            "   macro avg       1.00      1.00      1.00        36\n",
            "weighted avg       1.00      1.00      1.00        36\n",
            "\n"
          ]
        }
      ]
    },
    {
      "cell_type": "code",
      "metadata": {
        "colab": {
          "base_uri": "https://localhost:8080/",
          "height": 409
        },
        "id": "y1fQjdOxFJu3",
        "outputId": "6275a9a7-9a17-49b5-f847-96916fbbecb2"
      },
      "source": [
        "# Confusion Matrix\n",
        "matrix = metrics.plot_confusion_matrix(mdl, X_test, Y_test)\n",
        "print(f\"Confussion Matrix:- \\n{matrix.confusion_matrix}\\n\\n\")\n",
        "\n",
        "matrix.figure_.suptitle(\"Confusion Matrix\")\n",
        "plt.show()"
      ],
      "execution_count": 9,
      "outputs": [
        {
          "output_type": "stream",
          "name": "stdout",
          "text": [
            "Confussion Matrix:- \n",
            "[[13  0  0]\n",
            " [ 0 13  0]\n",
            " [ 0  0 10]]\n",
            "\n",
            "\n"
          ]
        },
        {
          "output_type": "display_data",
          "data": {
            "image/png": "[encoded data removed]",
            "text/plain": [
              "<Figure size 432x288 with 2 Axes>"
            ]
          },
          "metadata": {
            "needs_background": "light"
          }
        }
      ]
    }
  ]
}
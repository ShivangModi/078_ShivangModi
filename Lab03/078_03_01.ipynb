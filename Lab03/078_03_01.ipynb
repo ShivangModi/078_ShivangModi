{
  "nbformat": 4,
  "nbformat_minor": 0,
  "metadata": {
    "colab": {
      "name": "078_03_01.ipynb",
      "provenance": [],
      "collapsed_sections": []
    },
    "kernelspec": {
      "name": "python3",
      "display_name": "Python 3"
    },
    "language_info": {
      "name": "python"
    }
  },
  "cells": [
    {
      "cell_type": "markdown",
      "metadata": {
        "id": "BqPFMPtf8vWu"
      },
      "source": [
        "**import libraries and load dataset**"
      ]
    },
    {
      "cell_type": "code",
      "metadata": {
        "colab": {
          "base_uri": "https://localhost:8080/"
        },
        "id": "b-_gCdn17yrW",
        "outputId": "2038bf8d-e515-4b83-ce2d-a840acced12b"
      },
      "source": [
        "import numpy as np\n",
        "import pandas as pd\n",
        "import matplotlib.pyplot as plt\n",
        "from sklearn import datasets, preprocessing\n",
        "from sklearn.naive_bayes import GaussianNB, MultinomialNB\n",
        "from google.colab import drive\n",
        "\n",
        "drive.mount('/content/drive', force_remount=True)"
      ],
      "execution_count": 14,
      "outputs": [
        {
          "output_type": "stream",
          "name": "stdout",
          "text": [
            "Mounted at /content/drive\n"
          ]
        }
      ]
    },
    {
      "cell_type": "markdown",
      "metadata": {
        "id": "OdL8Lt5V9KGm"
      },
      "source": [
        "**apply label encoding (One Hot Encoding) to the non-numeric fields**"
      ]
    },
    {
      "cell_type": "code",
      "metadata": {
        "id": "0RuyGC9A9Yf-",
        "colab": {
          "base_uri": "https://localhost:8080/"
        },
        "outputId": "0ec09808-dae7-471f-aec1-05f8648d41ef"
      },
      "source": [
        "data = pd.read_csv('/content/drive/My Drive/ML_Dataset/Dataset2.csv')\n",
        "lbl_enc = preprocessing.LabelEncoder()\n",
        "row = None\n",
        "\n",
        "for col in data:\n",
        "    if col != 'Class':\n",
        "        dummy = pd.get_dummies(data[col])\n",
        "        print(f\"{col}:- \")\n",
        "        print(dummy, '\\n')\n",
        "\n",
        "        data = data.drop([col], axis=1)\n",
        "        data = pd.concat([data, dummy], axis=1)\n",
        "    else:\n",
        "        row = lbl_enc.fit_transform(data[col])\n",
        "        data = data.drop([col], axis=1)"
      ],
      "execution_count": 20,
      "outputs": [
        {
          "output_type": "stream",
          "name": "stdout",
          "text": [
            "Outlook:- \n",
            "    O  R  S\n",
            "0   0  1  0\n",
            "1   0  1  0\n",
            "2   1  0  0\n",
            "3   0  0  1\n",
            "4   0  0  1\n",
            "5   0  0  1\n",
            "6   1  0  0\n",
            "7   0  1  0\n",
            "8   0  1  0\n",
            "9   0  0  1\n",
            "10  0  1  0\n",
            "11  1  0  0\n",
            "12  1  0  0\n",
            "13  0  0  1 \n",
            "\n",
            "Temp:- \n",
            "    C  H  M\n",
            "0   0  1  0\n",
            "1   0  1  0\n",
            "2   0  1  0\n",
            "3   0  0  1\n",
            "4   0  0  1\n",
            "5   0  0  1\n",
            "6   1  0  0\n",
            "7   1  0  0\n",
            "8   1  0  0\n",
            "9   0  0  1\n",
            "10  0  0  1\n",
            "11  0  0  1\n",
            "12  0  1  0\n",
            "13  0  0  1 \n",
            "\n",
            "Wind:- \n",
            "    F  T\n",
            "0   1  0\n",
            "1   0  1\n",
            "2   1  0\n",
            "3   1  0\n",
            "4   1  0\n",
            "5   0  1\n",
            "6   0  1\n",
            "7   1  0\n",
            "8   1  0\n",
            "9   1  0\n",
            "10  0  1\n",
            "11  0  1\n",
            "12  1  0\n",
            "13  0  1 \n",
            "\n",
            "Humidity:- \n",
            "    High  Low  Normal\n",
            "0      0    0       1\n",
            "1      1    0       0\n",
            "2      0    0       1\n",
            "3      0    0       1\n",
            "4      0    0       1\n",
            "5      0    1       0\n",
            "6      0    0       1\n",
            "7      0    0       1\n",
            "8      0    1       0\n",
            "9      1    0       0\n",
            "10     1    0       0\n",
            "11     0    1       0\n",
            "12     0    0       1\n",
            "13     0    0       1 \n",
            "\n"
          ]
        }
      ]
    },
    {
      "cell_type": "code",
      "metadata": {
        "colab": {
          "base_uri": "https://localhost:8080/"
        },
        "id": "hIu8sEBOCMtW",
        "outputId": "d2095583-f78e-46b3-8497-4c25936811bc"
      },
      "source": [
        "print(data, '\\n')\n",
        "print(row)"
      ],
      "execution_count": 21,
      "outputs": [
        {
          "output_type": "stream",
          "name": "stdout",
          "text": [
            "    O  R  S  C  H  M  F  T  High  Low  Normal\n",
            "0   0  1  0  0  1  0  1  0     0    0       1\n",
            "1   0  1  0  0  1  0  0  1     1    0       0\n",
            "2   1  0  0  0  1  0  1  0     0    0       1\n",
            "3   0  0  1  0  0  1  1  0     0    0       1\n",
            "4   0  0  1  0  0  1  1  0     0    0       1\n",
            "5   0  0  1  0  0  1  0  1     0    1       0\n",
            "6   1  0  0  1  0  0  0  1     0    0       1\n",
            "7   0  1  0  1  0  0  1  0     0    0       1\n",
            "8   0  1  0  1  0  0  1  0     0    1       0\n",
            "9   0  0  1  0  0  1  1  0     1    0       0\n",
            "10  0  1  0  0  0  1  0  1     1    0       0\n",
            "11  1  0  0  0  0  1  0  1     0    1       0\n",
            "12  1  0  0  0  1  0  1  0     0    0       1\n",
            "13  0  0  1  0  0  1  0  1     0    0       1 \n",
            "\n",
            "[0 0 1 0 1 1 1 1 1 1 1 1 1 0]\n"
          ]
        }
      ]
    },
    {
      "cell_type": "code",
      "metadata": {
        "colab": {
          "base_uri": "https://localhost:8080/"
        },
        "id": "TJVOnvcsC3XX",
        "outputId": "cd7f3337-8830-4ad6-cbce-ef7bb7d3780b"
      },
      "source": [
        "from sklearn.model_selection import train_test_split\n",
        "\n",
        "# as per insttruction, \n",
        "# random state = roll no. = 78\n",
        "# test_size = 25%\n",
        "X_train, X_test, Y_train, Y_test = train_test_split(data, row, test_size=0.25, random_state=78)\n",
        "\n",
        "# create model\n",
        "model = MultinomialNB()\n",
        "model.fit(X_train, Y_train)\n",
        "\n",
        "# predict Y from X_test\n",
        "Y_predict = model.predict(X_test)\n",
        "print(X_test, '\\n')\n",
        "print(Y_predict)"
      ],
      "execution_count": 23,
      "outputs": [
        {
          "output_type": "stream",
          "name": "stdout",
          "text": [
            "    O  R  S  C  H  M  F  T  High  Low  Normal\n",
            "11  1  0  0  0  0  1  0  1     0    1       0\n",
            "1   0  1  0  0  1  0  0  1     1    0       0\n",
            "2   1  0  0  0  1  0  1  0     0    0       1\n",
            "3   0  0  1  0  0  1  1  0     0    0       1 \n",
            "\n",
            "[1 1 1 1]\n"
          ]
        }
      ]
    },
    {
      "cell_type": "code",
      "metadata": {
        "colab": {
          "base_uri": "https://localhost:8080/"
        },
        "id": "4k53FwL7EboM",
        "outputId": "5cce1d0b-bea9-41ce-efab-c40f9c7b4a72"
      },
      "source": [
        "from sklearn import metrics\n",
        "\n",
        "print(f\"Accuracy:- {metrics.accuracy_score(Y_test, Y_predict)}\")\n",
        "print(f\"Precision:- {metrics.precision_score(Y_test, Y_predict)}\")\n",
        "print(f\"Recall:- {metrics.recall_score(Y_test, Y_predict)}\")"
      ],
      "execution_count": 24,
      "outputs": [
        {
          "output_type": "stream",
          "name": "stdout",
          "text": [
            "Accuracy:- 0.5\n",
            "Precision:- 0.5\n",
            "Recall:- 1.0\n"
          ]
        }
      ]
    },
    {
      "cell_type": "code",
      "metadata": {
        "colab": {
          "base_uri": "https://localhost:8080/"
        },
        "id": "A70gV75sE3H-",
        "outputId": "1914ad3b-4c8a-45d5-be10-35a0d75aae98"
      },
      "source": [
        "# Outlook is ’Rainy’, Temperature is ’Mild’, Humidity =’Normal’, and Wind = ’False’\n",
        "# 0,1,0     0,0,1       1,0     0,0,1\n",
        "op = model.predict([[0,1,0, 0,0,1, 1,0, 0,0,1]])\n",
        "print(f\"Prediction:- {op}\")\n",
        "\n",
        "# Outlook is ’Sunny’, Temeprature is ’Cool’, Humidity =’High’, and Wind = ’True’\n",
        "# 0,0,1     1,0,0       0,1     1,0,0\n",
        "op = model.predict([[0,0,1, 1,0,0, 0,1, 1,0,0]])\n",
        "print(f\"Final prediction:- {op}\")"
      ],
      "execution_count": 25,
      "outputs": [
        {
          "output_type": "stream",
          "name": "stdout",
          "text": [
            "Prediction:- [1]\n",
            "Final prediction:- [1]\n"
          ]
        }
      ]
    }
  ]
}
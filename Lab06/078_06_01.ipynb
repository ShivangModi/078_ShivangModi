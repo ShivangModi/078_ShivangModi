{
  "nbformat": 4,
  "nbformat_minor": 0,
  "metadata": {
    "colab": {
      "name": "078_06_01.ipynb",
      "provenance": [],
      "collapsed_sections": []
    },
    "kernelspec": {
      "name": "python3",
      "display_name": "Python 3"
    },
    "language_info": {
      "name": "python"
    }
  },
  "cells": [
    {
      "cell_type": "markdown",
      "metadata": {
        "id": "p0oywsULFG6f"
      },
      "source": [
        "**Task:- Try logistic regression on BuyComputer dataset and set random_set = Your_RollNumber.**"
      ]
    },
    {
      "cell_type": "code",
      "metadata": {
        "colab": {
          "base_uri": "https://localhost:8080/"
        },
        "id": "ud_EVTLdE7Ga",
        "outputId": "c9fce35b-d3a8-4e08-b3d7-3fdf10b6c07a"
      },
      "source": [
        "import numpy as np\n",
        "import pandas as pd\n",
        "import matplotlib.pyplot as plt\n",
        "from google.colab import drive\n",
        "\n",
        "drive.mount('/content/drive', force_remount=True)"
      ],
      "execution_count": 2,
      "outputs": [
        {
          "output_type": "stream",
          "name": "stdout",
          "text": [
            "Mounted at /content/drive\n"
          ]
        }
      ]
    },
    {
      "cell_type": "code",
      "metadata": {
        "colab": {
          "base_uri": "https://localhost:8080/",
          "height": 203
        },
        "id": "pm1viislGa8K",
        "outputId": "16e13b94-7b76-491a-b4ec-06186e9b85dc"
      },
      "source": [
        "data = pd.read_csv('/content/drive/My Drive/ML_Dataset/BuyComputer.csv')\n",
        "data.drop(columns=['User ID',], axis=1, inplace=True)\n",
        "data.head()"
      ],
      "execution_count": 3,
      "outputs": [
        {
          "output_type": "execute_result",
          "data": {
            "text/html": [
              "<div>\n",
              "<style scoped>\n",
              "    .dataframe tbody tr th:only-of-type {\n",
              "        vertical-align: middle;\n",
              "    }\n",
              "\n",
              "    .dataframe tbody tr th {\n",
              "        vertical-align: top;\n",
              "    }\n",
              "\n",
              "    .dataframe thead th {\n",
              "        text-align: right;\n",
              "    }\n",
              "</style>\n",
              "<table border=\"1\" class=\"dataframe\">\n",
              "  <thead>\n",
              "    <tr style=\"text-align: right;\">\n",
              "      <th></th>\n",
              "      <th>Age</th>\n",
              "      <th>EstimatedSalary</th>\n",
              "      <th>Purchased</th>\n",
              "    </tr>\n",
              "  </thead>\n",
              "  <tbody>\n",
              "    <tr>\n",
              "      <th>0</th>\n",
              "      <td>19</td>\n",
              "      <td>19000</td>\n",
              "      <td>0</td>\n",
              "    </tr>\n",
              "    <tr>\n",
              "      <th>1</th>\n",
              "      <td>35</td>\n",
              "      <td>20000</td>\n",
              "      <td>0</td>\n",
              "    </tr>\n",
              "    <tr>\n",
              "      <th>2</th>\n",
              "      <td>26</td>\n",
              "      <td>43000</td>\n",
              "      <td>0</td>\n",
              "    </tr>\n",
              "    <tr>\n",
              "      <th>3</th>\n",
              "      <td>27</td>\n",
              "      <td>57000</td>\n",
              "      <td>0</td>\n",
              "    </tr>\n",
              "    <tr>\n",
              "      <th>4</th>\n",
              "      <td>19</td>\n",
              "      <td>76000</td>\n",
              "      <td>0</td>\n",
              "    </tr>\n",
              "  </tbody>\n",
              "</table>\n",
              "</div>"
            ],
            "text/plain": [
              "   Age  EstimatedSalary  Purchased\n",
              "0   19            19000          0\n",
              "1   35            20000          0\n",
              "2   26            43000          0\n",
              "3   27            57000          0\n",
              "4   19            76000          0"
            ]
          },
          "metadata": {},
          "execution_count": 3
        }
      ]
    },
    {
      "cell_type": "code",
      "metadata": {
        "id": "lLe96iNwGtmL"
      },
      "source": [
        "from sklearn.model_selection import train_test_split\n",
        "\n",
        "x = data.iloc[:, :-1].values\n",
        "y = data.iloc[:, -1].values\n",
        "samp, feat = x.shape\n",
        "x_train, x_test, y_train, y_test = train_test_split(x, y, test_size=0.25, random_state=78)"
      ],
      "execution_count": 5,
      "outputs": []
    },
    {
      "cell_type": "code",
      "metadata": {
        "id": "olvVi_YKIFFU"
      },
      "source": [
        "import torch\n",
        "from sklearn.preprocessing import StandardScaler\n",
        "\n",
        "ss = StandardScaler()\n",
        "x_train = ss.fit_transform(x_train)\n",
        "x_test = ss.fit_transform(x_test)"
      ],
      "execution_count": 6,
      "outputs": []
    },
    {
      "cell_type": "code",
      "metadata": {
        "id": "MsEqtKE4Ir83"
      },
      "source": [
        "x_train = torch.from_numpy(x_train.astype(np.float32))\n",
        "x_test = torch.from_numpy(x_test.astype(np.float32))\n",
        "y_train = torch.from_numpy(y_train.astype(np.float32))\n",
        "y_test = torch.from_numpy(y_test.astype(np.float32))\n",
        "\n",
        "y_train = y_train.view(y_train.shape[0], 1)\n",
        "y_test = y_test.view(y_test.shape[0], 1)"
      ],
      "execution_count": 7,
      "outputs": []
    },
    {
      "cell_type": "code",
      "metadata": {
        "id": "cJEhCVENJDS5"
      },
      "source": [
        "import torch.nn as nn\n",
        "\n",
        "class Model(nn.Module):\n",
        "    def __init__(self, n_features):\n",
        "        super(Model, self).__init__()\n",
        "        self.linear = nn.Linear(n_features, 1)\n",
        "\n",
        "    def forward(self, x):\n",
        "        y_predict = torch.sigmoid(self.linear(x))\n",
        "        return y_predict\n",
        "\n",
        "model = Model(feat)"
      ],
      "execution_count": 9,
      "outputs": []
    },
    {
      "cell_type": "code",
      "metadata": {
        "id": "uFAug9KXKULi"
      },
      "source": [
        "epochs = 140\n",
        "learning_rate = 0.01\n",
        "criterion = nn.BCELoss()\n",
        "optimizer = torch.optim.SGD(model.parameters(), lr=learning_rate)"
      ],
      "execution_count": 10,
      "outputs": []
    },
    {
      "cell_type": "code",
      "metadata": {
        "colab": {
          "base_uri": "https://localhost:8080/"
        },
        "id": "-SUHHjEhLDyD",
        "outputId": "8ff38cce-d436-4400-c8bb-7af015095a30"
      },
      "source": [
        "for i in range(epochs):\n",
        "    y_predict = model(x_train)\n",
        "    loss = criterion(y_predict, y_train)\n",
        "\n",
        "    loss.backward()\n",
        "    optimizer.step()\n",
        "    optimizer.zero_grad()\n",
        "\n",
        "    if (i+1)%10 == 0:\n",
        "        print(f'epoch: {i+1}, loss = {loss.item():.4f}')\n",
        "\n",
        "print()\n",
        "with torch.no_grad():\n",
        "    y_predict = model(x_test)\n",
        "    y_predict_cls = y_predict.round()\n",
        "    acc = y_predict_cls.eq(y_test).sum() / float(y_test.shape[0])\n",
        "    print(f'Accuracy:- {acc.item()*100 :.2f}')"
      ],
      "execution_count": 19,
      "outputs": [
        {
          "output_type": "stream",
          "name": "stdout",
          "text": [
            "epoch: 10, loss = 0.3745\n",
            "epoch: 20, loss = 0.3740\n",
            "epoch: 30, loss = 0.3736\n",
            "epoch: 40, loss = 0.3731\n",
            "epoch: 50, loss = 0.3726\n",
            "epoch: 60, loss = 0.3722\n",
            "epoch: 70, loss = 0.3717\n",
            "epoch: 80, loss = 0.3713\n",
            "epoch: 90, loss = 0.3709\n",
            "epoch: 100, loss = 0.3704\n",
            "epoch: 110, loss = 0.3700\n",
            "epoch: 120, loss = 0.3696\n",
            "epoch: 130, loss = 0.3692\n",
            "epoch: 140, loss = 0.3688\n",
            "\n",
            "Accuracy:- 81.00\n"
          ]
        }
      ]
    }
  ]
}
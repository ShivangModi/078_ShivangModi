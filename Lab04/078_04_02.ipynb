{
  "nbformat": 4,
  "nbformat_minor": 0,
  "metadata": {
    "colab": {
      "name": "078_04_02.ipynb",
      "provenance": []
    },
    "kernelspec": {
      "name": "python3",
      "display_name": "Python 3"
    },
    "language_info": {
      "name": "python"
    }
  },
  "cells": [
    {
      "cell_type": "code",
      "metadata": {
        "id": "4pMskiUyay1w"
      },
      "source": [
        "import numpy as np\n",
        "import pandas as pd\n",
        "import matplotlib.pyplot as plt\n",
        "\n",
        "from sklearn import datasets, preprocessing, metrics\n",
        "from sklearn.naive_bayes import GaussianNB, MultinomialNB\n",
        "from sklearn.model_selection import train_test_split\n",
        "from sklearn.metrics import precision_score, recall_score\n",
        "from sklearn.datasets import load_digits"
      ],
      "execution_count": 25,
      "outputs": []
    },
    {
      "cell_type": "code",
      "metadata": {
        "colab": {
          "base_uri": "https://localhost:8080/",
          "height": 178
        },
        "id": "_G0Kuq5BbrGY",
        "outputId": "d93cb968-52c1-4f5f-f358-0725217ebfc4"
      },
      "source": [
        "# Load digit dataset\n",
        "data = load_digits()\n",
        "\n",
        "plt.figure(figsize=(20, 20))\n",
        "for i in range(10):\n",
        "    plt.subplot(8, 8, i+1)\n",
        "    plt.imshow(data.images[i])"
      ],
      "execution_count": 26,
      "outputs": [
        {
          "output_type": "display_data",
          "data": {
            "image/png": "[encoded data removed]",
            "text/plain": [
              "<Figure size 1440x1440 with 10 Axes>"
            ]
          },
          "metadata": {
            "needs_background": "light"
          }
        }
      ]
    },
    {
      "cell_type": "markdown",
      "metadata": {
        "id": "Gkz_w65Oc7zU"
      },
      "source": [
        "**Split train-test: 80%-20%**"
      ]
    },
    {
      "cell_type": "code",
      "metadata": {
        "colab": {
          "base_uri": "https://localhost:8080/"
        },
        "id": "g1AePxvCc4qp",
        "outputId": "ab2bb439-0562-4868-ad51-d40639619220"
      },
      "source": [
        "from sklearn.model_selection import train_test_split\n",
        "\n",
        "X_train, X_test, Y_train, Y_test = train_test_split(data.data, data.target, test_size=0.20, random_state=78)\n",
        "\n",
        "# Gaussina models\n",
        "mdl = GaussianNB()\n",
        "\n",
        "# train model\n",
        "mdl.fit(X_train, Y_train)\n",
        "\n",
        "# training completed\n",
        "Y_predict = mdl.predict(X_test)\n",
        "\n",
        "print(f\"Accuracy:- \\n{metrics.accuracy_score(Y_test, Y_predict)}\")"
      ],
      "execution_count": 27,
      "outputs": [
        {
          "output_type": "stream",
          "name": "stdout",
          "text": [
            "Accuracy:- \n",
            "0.8611111111111112\n"
          ]
        }
      ]
    },
    {
      "cell_type": "code",
      "metadata": {
        "colab": {
          "base_uri": "https://localhost:8080/"
        },
        "id": "oQrNx_pmeKg1",
        "outputId": "9715ced0-dfff-4462-866a-f274ffa3a4e8"
      },
      "source": [
        "data.images[3]"
      ],
      "execution_count": 28,
      "outputs": [
        {
          "output_type": "execute_result",
          "data": {
            "text/plain": [
              "array([[ 0.,  0.,  7., 15., 13.,  1.,  0.,  0.],\n",
              "       [ 0.,  8., 13.,  6., 15.,  4.,  0.,  0.],\n",
              "       [ 0.,  2.,  1., 13., 13.,  0.,  0.,  0.],\n",
              "       [ 0.,  0.,  2., 15., 11.,  1.,  0.,  0.],\n",
              "       [ 0.,  0.,  0.,  1., 12., 12.,  1.,  0.],\n",
              "       [ 0.,  0.,  0.,  0.,  1., 10.,  8.,  0.],\n",
              "       [ 0.,  0.,  8.,  4.,  5., 14.,  9.,  0.],\n",
              "       [ 0.,  0.,  7., 13., 13.,  9.,  0.,  0.]])"
            ]
          },
          "metadata": {},
          "execution_count": 28
        }
      ]
    },
    {
      "cell_type": "code",
      "metadata": {
        "colab": {
          "base_uri": "https://localhost:8080/",
          "height": 168
        },
        "id": "aSqw-V3EeY3D",
        "outputId": "801dceaf-3bc2-4c88-809b-e6658ba7099a"
      },
      "source": [
        "_, axes = plt.subplots(nrows=1, ncols=4, figsize=(10, 3))\n",
        "for ax, image, prediction in zip(axes, X_test, Y_predict):\n",
        "    ax.set_axis_off()\n",
        "    image = image.reshape(8, 8)\n",
        "    ax.imshow(image, cmap=plt.cm.gray_r, interpolation='nearest')\n",
        "    ax.set_title(f'Prediction: {prediction}')"
      ],
      "execution_count": 29,
      "outputs": [
        {
          "output_type": "display_data",
          "data": {
            "image/png": "[encoded data removed]",
            "text/plain": [
              "<Figure size 720x216 with 4 Axes>"
            ]
          },
          "metadata": {
            "needs_background": "light"
          }
        }
      ]
    },
    {
      "cell_type": "code",
      "metadata": {
        "colab": {
          "base_uri": "https://localhost:8080/"
        },
        "id": "ZwDM-BhofpIu",
        "outputId": "beeb0b70-332b-4a82-8f5c-485f092178e4"
      },
      "source": [
        "print(f\"Classification report:- \\n{metrics.classification_report(Y_test, Y_predict)}\\n\")"
      ],
      "execution_count": 30,
      "outputs": [
        {
          "output_type": "stream",
          "name": "stdout",
          "text": [
            "Classification report:- \n",
            "              precision    recall  f1-score   support\n",
            "\n",
            "           0       1.00      0.96      0.98        24\n",
            "           1       0.86      0.75      0.80        32\n",
            "           2       0.92      0.85      0.88        26\n",
            "           3       0.88      0.72      0.79        39\n",
            "           4       0.95      0.88      0.91        48\n",
            "           5       0.90      0.84      0.87        31\n",
            "           6       1.00      1.00      1.00        42\n",
            "           7       0.82      1.00      0.90        46\n",
            "           8       0.57      0.91      0.70        33\n",
            "           9       0.93      0.69      0.79        39\n",
            "\n",
            "    accuracy                           0.86       360\n",
            "   macro avg       0.88      0.86      0.86       360\n",
            "weighted avg       0.88      0.86      0.86       360\n",
            "\n",
            "\n"
          ]
        }
      ]
    },
    {
      "cell_type": "code",
      "metadata": {
        "colab": {
          "base_uri": "https://localhost:8080/",
          "height": 510
        },
        "id": "OzOjgNbPf8KH",
        "outputId": "81439339-016e-4691-bbe6-fea2fb2b3a0a"
      },
      "source": [
        "fig = metrics.plot_confusion_matrix(mdl, X_test, Y_test)\n",
        "print(f\"Confusion matrix:\\n{fig.confusion_matrix}\\n\")\n",
        "\n",
        "fig.figure_.suptitle(\"Confusion Matrix\")\n",
        "plt.show()"
      ],
      "execution_count": 34,
      "outputs": [
        {
          "output_type": "stream",
          "name": "stdout",
          "text": [
            "Confusion matrix:\n",
            "[[23  0  0  0  0  1  0  0  0  0]\n",
            " [ 0 24  0  0  0  0  0  1  5  2]\n",
            " [ 0  0 22  0  1  0  0  0  3  0]\n",
            " [ 0  1  1 28  0  1  0  1  7  0]\n",
            " [ 0  1  0  0 42  1  0  3  1  0]\n",
            " [ 0  0  0  1  0 26  0  2  2  0]\n",
            " [ 0  0  0  0  0  0 42  0  0  0]\n",
            " [ 0  0  0  0  0  0  0 46  0  0]\n",
            " [ 0  0  1  0  0  0  0  2 30  0]\n",
            " [ 0  2  0  3  1  0  0  1  5 27]]\n",
            "\n"
          ]
        },
        {
          "output_type": "display_data",
          "data": {
            "image/png": "[encoded data removed]",
            "text/plain": [
              "<Figure size 432x288 with 2 Axes>"
            ]
          },
          "metadata": {
            "needs_background": "light"
          }
        }
      ]
    }
  ]
}
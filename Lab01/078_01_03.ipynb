{
  "nbformat": 4,
  "nbformat_minor": 0,
  "metadata": {
    "colab": {
      "name": "078_01_03.ipynb",
      "provenance": [],
      "collapsed_sections": []
    },
    "kernelspec": {
      "name": "python3",
      "display_name": "Python 3"
    },
    "language_info": {
      "name": "python"
    }
  },
  "cells": [
    {
      "cell_type": "code",
      "metadata": {
        "id": "TKpcM_hYFoL7"
      },
      "source": [
        "import numpy as np\n",
        "import pandas as pd"
      ],
      "execution_count": 1,
      "outputs": []
    },
    {
      "cell_type": "markdown",
      "metadata": {
        "id": "xUK9E4hclJq7"
      },
      "source": [
        "1. Create two numpy array of size 3x2 and 2x3\n",
        "2. Randomly initialize that array"
      ]
    },
    {
      "cell_type": "code",
      "metadata": {
        "colab": {
          "base_uri": "https://localhost:8080/"
        },
        "id": "Cj1SRoHQlFWm",
        "outputId": "884d3ebd-a369-41af-e03e-83d51a28c731"
      },
      "source": [
        "arr1 = np.array([[1, 2], [3, 4], [5, 6]])\n",
        "arr2 = np.array([[1, 2, 3], [4, 5, 6]])\n",
        "print(\"3x2 Array:- \")\n",
        "print(arr1, '\\n')\n",
        "print(\"2x3 Array:- \")\n",
        "print(arr2, '\\n')"
      ],
      "execution_count": 3,
      "outputs": [
        {
          "output_type": "stream",
          "name": "stdout",
          "text": [
            "3x2 Array:- \n",
            "[[1 2]\n",
            " [3 4]\n",
            " [5 6]] \n",
            "\n",
            "2x3 Array:- \n",
            "[[1 2 3]\n",
            " [4 5 6]] \n",
            "\n"
          ]
        }
      ]
    },
    {
      "cell_type": "markdown",
      "metadata": {
        "id": "CVNahWiPlTad"
      },
      "source": [
        "3. Perform Matrix Multiplication"
      ]
    },
    {
      "cell_type": "code",
      "metadata": {
        "colab": {
          "base_uri": "https://localhost:8080/"
        },
        "id": "MT16CKTflSj4",
        "outputId": "5b1d0708-9ade-4131-d60d-64c4122d4125"
      },
      "source": [
        "res = arr1 @ arr2\n",
        "print(\"Matrix Multiplication:- \")\n",
        "print(res, '\\n')"
      ],
      "execution_count": 4,
      "outputs": [
        {
          "output_type": "stream",
          "name": "stdout",
          "text": [
            "Matrix Multiplication:- \n",
            "[[ 9 12 15]\n",
            " [19 26 33]\n",
            " [29 40 51]] \n",
            "\n"
          ]
        }
      ]
    },
    {
      "cell_type": "markdown",
      "metadata": {
        "id": "P5OtVvYflZkF"
      },
      "source": [
        "4. Perform elementwise Matrix Multiplication"
      ]
    },
    {
      "cell_type": "code",
      "metadata": {
        "colab": {
          "base_uri": "https://localhost:8080/"
        },
        "id": "8ulaQ6DglZwL",
        "outputId": "38630cfa-7431-48af-c930-c40e1e6403af"
      },
      "source": [
        "res = np.array([[0]*3]*3)\n",
        "for i in range(len(arr1)):\n",
        "   for j in range(len(arr2[0])):\n",
        "       for k in range(len(arr2)):\n",
        "           res[i,j] += arr1[i,k]*arr2[k,j]\n",
        "print(\"Elementwise Matrix Multiplication:- \")\n",
        "print(res, '\\n')"
      ],
      "execution_count": 5,
      "outputs": [
        {
          "output_type": "stream",
          "name": "stdout",
          "text": [
            "Elementwise Matrix Multiplication:- \n",
            "[[ 9 12 15]\n",
            " [19 26 33]\n",
            " [29 40 51]] \n",
            "\n"
          ]
        }
      ]
    },
    {
      "cell_type": "markdown",
      "metadata": {
        "id": "jmUbJHEbliXu"
      },
      "source": [
        "5. Find mean of first matrix"
      ]
    },
    {
      "cell_type": "code",
      "metadata": {
        "colab": {
          "base_uri": "https://localhost:8080/"
        },
        "id": "vEjoDepNlkTA",
        "outputId": "fdfbd56d-3403-4498-9c14-fea6ccfbf299"
      },
      "source": [
        "res = np.mean(arr1)\n",
        "print(res)"
      ],
      "execution_count": 6,
      "outputs": [
        {
          "output_type": "stream",
          "name": "stdout",
          "text": [
            "3.5\n"
          ]
        }
      ]
    },
    {
      "cell_type": "markdown",
      "metadata": {
        "id": "OxkRg6ezlq4s"
      },
      "source": [
        "6. Convert Numeric entries(Columns) of matcars.csv to Mean Centered Version"
      ]
    },
    {
      "cell_type": "code",
      "metadata": {
        "colab": {
          "base_uri": "https://localhost:8080/"
        },
        "id": "K6xx-l8ylqkV",
        "outputId": "cb7149dd-0f8d-414b-a772-dab483df6199"
      },
      "source": [
        "from google.colab import drive\n",
        "drive.mount('/content/drive', force_remount=True)\n",
        "data = pd.read_csv('/content/drive/My Drive/ML_Dataset/mtcars.csv')\n",
        "\n",
        "arr = np.array(data['mpg'])\n",
        "res = arr - np.mean(arr)\n",
        "print(res)"
      ],
      "execution_count": 7,
      "outputs": [
        {
          "output_type": "stream",
          "name": "stdout",
          "text": [
            "Mounted at /content/drive\n",
            "[ 0.909375  0.909375  2.709375  1.309375 -1.390625 -1.990625 -5.790625\n",
            "  4.309375  2.709375 -0.890625 -2.290625 -3.690625 -2.790625 -4.890625\n",
            " -9.690625 -9.690625 -5.390625 12.309375 10.309375 13.809375  1.409375\n",
            " -4.590625 -4.890625 -6.790625 -0.890625  7.209375  5.909375 10.309375\n",
            " -4.290625 -0.390625 -5.090625  1.309375]\n"
          ]
        }
      ]
    },
    {
      "cell_type": "code",
      "metadata": {
        "colab": {
          "base_uri": "https://localhost:8080/"
        },
        "id": "XroPHH2zl1Z6",
        "outputId": "7f5d7211-5c5c-40d7-cc12-aca25c6d1871"
      },
      "source": [
        "arr = np.array(data['cyl'])\n",
        "res = arr - np.mean(arr)\n",
        "print(res)"
      ],
      "execution_count": 8,
      "outputs": [
        {
          "output_type": "stream",
          "name": "stdout",
          "text": [
            "[-0.1875 -0.1875 -2.1875 -0.1875  1.8125 -0.1875  1.8125 -2.1875 -2.1875\n",
            " -0.1875 -0.1875  1.8125  1.8125  1.8125  1.8125  1.8125  1.8125 -2.1875\n",
            " -2.1875 -2.1875 -2.1875  1.8125  1.8125  1.8125  1.8125 -2.1875 -2.1875\n",
            " -2.1875  1.8125 -0.1875  1.8125 -2.1875]\n"
          ]
        }
      ]
    },
    {
      "cell_type": "code",
      "metadata": {
        "colab": {
          "base_uri": "https://localhost:8080/"
        },
        "id": "wl425GhPl8kI",
        "outputId": "eed77e4a-3d1a-4c65-e947-fc2bd61f34ab"
      },
      "source": [
        "arr = np.array(data['disp'])\n",
        "res = arr - np.mean(arr)\n",
        "print(res)"
      ],
      "execution_count": 9,
      "outputs": [
        {
          "output_type": "stream",
          "name": "stdout",
          "text": [
            "[ -70.721875  -70.721875 -122.721875   27.278125  129.278125   -5.721875\n",
            "  129.278125  -84.021875  -89.921875  -63.121875  -63.121875   45.078125\n",
            "   45.078125   45.078125  241.278125  229.278125  209.278125 -152.021875\n",
            " -155.021875 -159.621875 -110.621875   87.278125   73.278125  119.278125\n",
            "  169.278125 -151.721875 -110.421875 -135.621875  120.278125  -85.721875\n",
            "   70.278125 -109.721875]\n"
          ]
        }
      ]
    },
    {
      "cell_type": "code",
      "metadata": {
        "colab": {
          "base_uri": "https://localhost:8080/"
        },
        "id": "e3hTYOq7mCBb",
        "outputId": "777fd502-329d-4665-a80a-a8d38dccbd68"
      },
      "source": [
        "arr = np.array(data['hp'])\n",
        "res = arr - np.mean(arr)\n",
        "print(res)"
      ],
      "execution_count": 10,
      "outputs": [
        {
          "output_type": "stream",
          "name": "stdout",
          "text": [
            "[-36.6875 -36.6875 -53.6875 -36.6875  28.3125 -41.6875  98.3125 -84.6875\n",
            " -51.6875 -23.6875 -23.6875  33.3125  33.3125  33.3125  58.3125  68.3125\n",
            "  83.3125 -80.6875 -94.6875 -81.6875 -49.6875   3.3125   3.3125  98.3125\n",
            "  28.3125 -80.6875 -55.6875 -33.6875 117.3125  28.3125 188.3125 -37.6875]\n"
          ]
        }
      ]
    },
    {
      "cell_type": "code",
      "metadata": {
        "colab": {
          "base_uri": "https://localhost:8080/"
        },
        "id": "4BptsfjBmEZa",
        "outputId": "03a0759f-3ce1-4aa8-f111-345db7abb546"
      },
      "source": [
        "arr = np.array(data['drat'])\n",
        "res = arr - np.mean(arr)\n",
        "print(res)"
      ],
      "execution_count": 11,
      "outputs": [
        {
          "output_type": "stream",
          "name": "stdout",
          "text": [
            "[ 0.3034375  0.3034375  0.2534375 -0.5165625 -0.4465625 -0.8365625\n",
            " -0.3865625  0.0934375  0.3234375  0.3234375  0.3234375 -0.5265625\n",
            " -0.5265625 -0.5265625 -0.6665625 -0.5965625 -0.3665625  0.4834375\n",
            "  1.3334375  0.6234375  0.1034375 -0.8365625 -0.4465625  0.1334375\n",
            " -0.5165625  0.4834375  0.8334375  0.1734375  0.6234375  0.0234375\n",
            " -0.0565625  0.5134375]\n"
          ]
        }
      ]
    },
    {
      "cell_type": "code",
      "metadata": {
        "colab": {
          "base_uri": "https://localhost:8080/"
        },
        "id": "X2vuFxqCmGai",
        "outputId": "72847057-7e0b-4f53-e7b2-9353f5c5070b"
      },
      "source": [
        "arr = np.array(data['wt'])\n",
        "res = arr - np.mean(arr)\n",
        "print(res)"
      ],
      "execution_count": 12,
      "outputs": [
        {
          "output_type": "stream",
          "name": "stdout",
          "text": [
            "[-0.59725 -0.34225 -0.89725 -0.00225  0.22275  0.24275  0.35275 -0.02725\n",
            " -0.06725  0.22275  0.22275  0.85275  0.51275  0.56275  2.03275  2.20675\n",
            "  2.12775 -1.01725 -1.60225 -1.38225 -0.75225  0.30275  0.21775  0.62275\n",
            "  0.62775 -1.28225 -1.07725 -1.70425 -0.04725 -0.44725  0.35275 -0.43725]\n"
          ]
        }
      ]
    },
    {
      "cell_type": "code",
      "metadata": {
        "colab": {
          "base_uri": "https://localhost:8080/"
        },
        "id": "YXJ6CB7CmJ1g",
        "outputId": "d15ac3d7-dd23-45ba-f701-132f73f4ee2e"
      },
      "source": [
        "arr = np.array(data['qsec'])\n",
        "res = arr - np.mean(arr)\n",
        "print(res)"
      ],
      "execution_count": 13,
      "outputs": [
        {
          "output_type": "stream",
          "name": "stdout",
          "text": [
            "[-1.38875 -0.82875  0.76125  1.59125 -0.82875  2.37125 -2.00875  2.15125\n",
            "  5.05125  0.45125  1.05125 -0.44875 -0.24875  0.15125  0.13125 -0.02875\n",
            " -0.42875  1.62125  0.67125  2.05125  2.16125 -0.97875 -0.54875 -2.43875\n",
            " -0.79875  1.05125 -1.14875 -0.94875 -3.34875 -2.34875 -3.24875  0.75125]\n"
          ]
        }
      ]
    },
    {
      "cell_type": "code",
      "metadata": {
        "colab": {
          "base_uri": "https://localhost:8080/"
        },
        "id": "cOGl7Wx7mPLU",
        "outputId": "36296214-aea0-47f6-8582-7fd22223e4b5"
      },
      "source": [
        "arr = np.array(data['vs'])\n",
        "res = arr - np.mean(arr)\n",
        "print(res)"
      ],
      "execution_count": 14,
      "outputs": [
        {
          "output_type": "stream",
          "name": "stdout",
          "text": [
            "[-0.4375 -0.4375  0.5625  0.5625 -0.4375  0.5625 -0.4375  0.5625  0.5625\n",
            "  0.5625  0.5625 -0.4375 -0.4375 -0.4375 -0.4375 -0.4375 -0.4375  0.5625\n",
            "  0.5625  0.5625  0.5625 -0.4375 -0.4375 -0.4375 -0.4375  0.5625 -0.4375\n",
            "  0.5625 -0.4375 -0.4375 -0.4375  0.5625]\n"
          ]
        }
      ]
    },
    {
      "cell_type": "code",
      "metadata": {
        "colab": {
          "base_uri": "https://localhost:8080/"
        },
        "id": "3aklYQx7mQ4D",
        "outputId": "dd4242ae-0cb5-4416-9f7a-127e2900ad12"
      },
      "source": [
        "arr = np.array(data['am'])\n",
        "res = arr - np.mean(arr)\n",
        "print(res)"
      ],
      "execution_count": 15,
      "outputs": [
        {
          "output_type": "stream",
          "name": "stdout",
          "text": [
            "[ 0.59375  0.59375  0.59375 -0.40625 -0.40625 -0.40625 -0.40625 -0.40625\n",
            " -0.40625 -0.40625 -0.40625 -0.40625 -0.40625 -0.40625 -0.40625 -0.40625\n",
            " -0.40625  0.59375  0.59375  0.59375 -0.40625 -0.40625 -0.40625 -0.40625\n",
            " -0.40625  0.59375  0.59375  0.59375  0.59375  0.59375  0.59375  0.59375]\n"
          ]
        }
      ]
    },
    {
      "cell_type": "code",
      "metadata": {
        "colab": {
          "base_uri": "https://localhost:8080/"
        },
        "id": "DMSzkSEzmTUz",
        "outputId": "708a53ef-bbfa-4fa9-bc09-4287baf66bb8"
      },
      "source": [
        "arr = np.array(data['gear'])\n",
        "res = arr - np.mean(arr)\n",
        "print(res)"
      ],
      "execution_count": 16,
      "outputs": [
        {
          "output_type": "stream",
          "name": "stdout",
          "text": [
            "[ 0.3125  0.3125  0.3125 -0.6875 -0.6875 -0.6875 -0.6875  0.3125  0.3125\n",
            "  0.3125  0.3125 -0.6875 -0.6875 -0.6875 -0.6875 -0.6875 -0.6875  0.3125\n",
            "  0.3125  0.3125 -0.6875 -0.6875 -0.6875 -0.6875 -0.6875  0.3125  1.3125\n",
            "  1.3125  1.3125  1.3125  1.3125  0.3125]\n"
          ]
        }
      ]
    },
    {
      "cell_type": "code",
      "metadata": {
        "colab": {
          "base_uri": "https://localhost:8080/"
        },
        "id": "WoQ1wRYRmWYj",
        "outputId": "9b3dccf4-b7b1-46ea-c7f0-9cf23a13a7df"
      },
      "source": [
        "arr = np.array(data['carb'])\n",
        "res = arr - np.mean(arr)\n",
        "print(res)"
      ],
      "execution_count": 17,
      "outputs": [
        {
          "output_type": "stream",
          "name": "stdout",
          "text": [
            "[ 1.1875  1.1875 -1.8125 -1.8125 -0.8125 -1.8125  1.1875 -0.8125 -0.8125\n",
            "  1.1875  1.1875  0.1875  0.1875  0.1875  1.1875  1.1875  1.1875 -1.8125\n",
            " -0.8125 -1.8125 -1.8125 -0.8125 -0.8125  1.1875 -0.8125 -1.8125 -0.8125\n",
            " -0.8125  1.1875  3.1875  5.1875 -0.8125]\n"
          ]
        }
      ]
    }
  ]
}
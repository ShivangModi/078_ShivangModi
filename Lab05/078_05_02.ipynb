{
  "nbformat": 4,
  "nbformat_minor": 0,
  "metadata": {
    "colab": {
      "name": "078_05_02.ipynb",
      "provenance": [],
      "collapsed_sections": []
    },
    "kernelspec": {
      "name": "python3",
      "display_name": "Python 3"
    },
    "language_info": {
      "name": "python"
    }
  },
  "cells": [
    {
      "cell_type": "markdown",
      "metadata": {
        "id": "wFtbJUd1-owj"
      },
      "source": [
        "**Try linear regression on same prediction data using tensorflow**"
      ]
    },
    {
      "cell_type": "code",
      "metadata": {
        "id": "5YSqfczJ-l14"
      },
      "source": [
        "import numpy as np\n",
        "import tensorflow as tf\n",
        "\n",
        "data = np.array([[73, 67, 43], [91, 88, 64], [87, 134, 58], [102, 43, 37], \n",
        "                 [69, 96, 70],[73, 67, 43], [91, 88, 64], [87, 134, 58], \n",
        "                 [102, 43, 37], [69, 96, 70], [73, 67, 43], [91, 88, 64], \n",
        "                 [87, 134, 58], [102, 43, 37], [69, 96, 70]], dtype='float64')\n",
        "\n",
        "target = np.array([[56, 70], [81, 101], [119, 133], [22, 37], [103, 119], \n",
        "                   [56, 70], [81, 101], [119, 133], [22, 37], [103, 119], \n",
        "                   [56, 70], [81, 101], [119, 133], [22, 37], [103, 119]], \n",
        "                  dtype='float64')"
      ],
      "execution_count": 10,
      "outputs": []
    },
    {
      "cell_type": "code",
      "metadata": {
        "colab": {
          "base_uri": "https://localhost:8080/"
        },
        "id": "PHM4Hj8N_dp8",
        "outputId": "cf1f5ef3-e828-46d1-9200-cbe440b9719b"
      },
      "source": [
        "data = tf.Variable(data)\n",
        "target = tf.Variable(target)\n",
        "print(f\"target:- \\n{target}\\n\")"
      ],
      "execution_count": 11,
      "outputs": [
        {
          "output_type": "stream",
          "name": "stdout",
          "text": [
            "target:- \n",
            "<tf.Variable 'Variable:0' shape=(15, 2) dtype=float64, numpy=\n",
            "array([[ 56.,  70.],\n",
            "       [ 81., 101.],\n",
            "       [119., 133.],\n",
            "       [ 22.,  37.],\n",
            "       [103., 119.],\n",
            "       [ 56.,  70.],\n",
            "       [ 81., 101.],\n",
            "       [119., 133.],\n",
            "       [ 22.,  37.],\n",
            "       [103., 119.],\n",
            "       [ 56.,  70.],\n",
            "       [ 81., 101.],\n",
            "       [119., 133.],\n",
            "       [ 22.,  37.],\n",
            "       [103., 119.]])>\n",
            "\n"
          ]
        }
      ]
    },
    {
      "cell_type": "code",
      "metadata": {
        "colab": {
          "base_uri": "https://localhost:8080/"
        },
        "id": "iiOfU3Ii_w1u",
        "outputId": "0042729f-b240-4724-8daf-3cd47d479b7d"
      },
      "source": [
        "d1 = np.random.rand(3, 2)\n",
        "d1 = tf.Variable(d1)\n",
        "print(f\"d1:- \\n{d1}\\n\")\n",
        "\n",
        "d2 = np.random.randn(2)\n",
        "d2 = tf.Variable(d2)\n",
        "print(f\"d2:- \\n{d2}\\n\")"
      ],
      "execution_count": 12,
      "outputs": [
        {
          "output_type": "stream",
          "name": "stdout",
          "text": [
            "d1:- \n",
            "<tf.Variable 'Variable:0' shape=(3, 2) dtype=float64, numpy=\n",
            "array([[0.94255381, 0.85248081],\n",
            "       [0.92332556, 0.53742675],\n",
            "       [0.54241155, 0.29987151]])>\n",
            "\n",
            "d2:- \n",
            "<tf.Variable 'Variable:0' shape=(2,) dtype=float64, numpy=array([-0.12877979, -1.46614272])>\n",
            "\n"
          ]
        }
      ]
    },
    {
      "cell_type": "code",
      "metadata": {
        "id": "qnzV10jcBQMW"
      },
      "source": [
        "def func(p):\n",
        "    return p @ d1 + d2"
      ],
      "execution_count": 15,
      "outputs": []
    },
    {
      "cell_type": "code",
      "metadata": {
        "colab": {
          "base_uri": "https://localhost:8080/"
        },
        "id": "34jMVOdUBZ-z",
        "outputId": "5fb4cec2-1592-4368-eb95-56b69a612353"
      },
      "source": [
        "prediction = func(data)\n",
        "print(f\"prediction:- \\n{prediction}\\n\")"
      ],
      "execution_count": 16,
      "outputs": [
        {
          "output_type": "stream",
          "name": "stdout",
          "text": [
            "prediction:- \n",
            "[[153.86415722 109.66702436]\n",
            " [201.61060502 142.59494263]\n",
            " [237.05889631 162.10742102]\n",
            " [155.78393487 119.6914968 ]\n",
            " [191.51549505 129.93900781]\n",
            " [153.86415722 109.66702436]\n",
            " [201.61060502 142.59494263]\n",
            " [237.05889631 162.10742102]\n",
            " [155.78393487 119.6914968 ]\n",
            " [191.51549505 129.93900781]\n",
            " [153.86415722 109.66702436]\n",
            " [201.61060502 142.59494263]\n",
            " [237.05889631 162.10742102]\n",
            " [155.78393487 119.6914968 ]\n",
            " [191.51549505 129.93900781]]\n",
            "\n"
          ]
        }
      ]
    },
    {
      "cell_type": "code",
      "metadata": {
        "colab": {
          "base_uri": "https://localhost:8080/"
        },
        "id": "qEU6CR0dBxFf",
        "outputId": "9fec9838-3181-4e4c-b20d-62527de7c1ef"
      },
      "source": [
        "def mse(p1, p2):\n",
        "    return tf.reduce_mean(tf.square(p1-p2))\n",
        "print(f\"Mean Square Error:- \\n{mse(prediction, target)}\\n\")"
      ],
      "execution_count": 17,
      "outputs": [
        {
          "output_type": "stream",
          "name": "stdout",
          "text": [
            "Mean Square Error:- \n",
            "7490.374797225369\n",
            "\n"
          ]
        }
      ]
    },
    {
      "cell_type": "code",
      "metadata": {
        "colab": {
          "base_uri": "https://localhost:8080/"
        },
        "id": "0fQiAg7TCZWY",
        "outputId": "7bb72799-f911-45bc-bd1e-726080ddf01c"
      },
      "source": [
        "ephoch = 50\n",
        "for i in range(ephoch):\n",
        "    with tf.GradientTape(persistent=True) as t:\n",
        "        current_loss = mse(target, model(data))\n",
        "\n",
        "    d11 = t.gradient(current_loss, d1)\n",
        "    d21 = t.gradient(current_loss, d2)\n",
        "\n",
        "    d1.assign_sub(1e-4 * d11)\n",
        "    d2.assign_sub(1e-4 * d21)\n",
        "        \n",
        "    print(f\"Epoch count: {i} \\nLoss value: {current_loss.numpy()}\\n\")"
      ],
      "execution_count": 19,
      "outputs": [
        {
          "output_type": "stream",
          "name": "stdout",
          "text": [
            "Epoch count: 0 \n",
            "Loss value: 72.88942321559388\n",
            "\n",
            "Epoch count: 1 \n",
            "Loss value: 66.27643699638254\n",
            "\n",
            "Epoch count: 2 \n",
            "Loss value: 60.48377537457205\n",
            "\n",
            "Epoch count: 3 \n",
            "Loss value: 55.3914457252916\n",
            "\n",
            "Epoch count: 4 \n",
            "Loss value: 50.901721906824726\n",
            "\n",
            "Epoch count: 5 \n",
            "Loss value: 46.933581585133126\n",
            "\n",
            "Epoch count: 6 \n",
            "Loss value: 43.41888607839875\n",
            "\n",
            "Epoch count: 7 \n",
            "Loss value: 40.29969203982964\n",
            "\n",
            "Epoch count: 8 \n",
            "Loss value: 37.526307820551764\n",
            "\n",
            "Epoch count: 9 \n",
            "Loss value: 35.05584781768304\n",
            "\n",
            "Epoch count: 10 \n",
            "Loss value: 32.85112653673856\n",
            "\n",
            "Epoch count: 11 \n",
            "Loss value: 30.879789898492632\n",
            "\n",
            "Epoch count: 12 \n",
            "Loss value: 29.11361665324865\n",
            "\n",
            "Epoch count: 13 \n",
            "Loss value: 27.527945241498394\n",
            "\n",
            "Epoch count: 14 \n",
            "Loss value: 26.101195827198627\n",
            "\n",
            "Epoch count: 15 \n",
            "Loss value: 24.81446651679613\n",
            "\n",
            "Epoch count: 16 \n",
            "Loss value: 23.651188838165137\n",
            "\n",
            "Epoch count: 17 \n",
            "Loss value: 22.59683156574981\n",
            "\n",
            "Epoch count: 18 \n",
            "Loss value: 21.63864468151485\n",
            "\n",
            "Epoch count: 19 \n",
            "Loss value: 20.765437122110985\n",
            "\n",
            "Epoch count: 20 \n",
            "Loss value: 19.96738327559095\n",
            "\n",
            "Epoch count: 21 \n",
            "Loss value: 19.23585414293542\n",
            "\n",
            "Epoch count: 22 \n",
            "Loss value: 18.563269789714933\n",
            "\n",
            "Epoch count: 23 \n",
            "Loss value: 17.942970257925488\n",
            "\n",
            "Epoch count: 24 \n",
            "Loss value: 17.369102536972722\n",
            "\n",
            "Epoch count: 25 \n",
            "Loss value: 16.836521538473686\n",
            "\n",
            "Epoch count: 26 \n",
            "Loss value: 16.340703303677152\n",
            "\n",
            "Epoch count: 27 \n",
            "Loss value: 15.877668909592835\n",
            "\n",
            "Epoch count: 28 \n",
            "Loss value: 15.443917740605457\n",
            "\n",
            "Epoch count: 29 \n",
            "Loss value: 15.036368963726936\n",
            "\n",
            "Epoch count: 30 \n",
            "Loss value: 14.652310193059781\n",
            "\n",
            "Epoch count: 31 \n",
            "Loss value: 14.289352456545885\n",
            "\n",
            "Epoch count: 32 \n",
            "Loss value: 13.945390688787246\n",
            "\n",
            "Epoch count: 33 \n",
            "Loss value: 13.618569070139301\n",
            "\n",
            "Epoch count: 34 \n",
            "Loss value: 13.307250616414963\n",
            "\n",
            "Epoch count: 35 \n",
            "Loss value: 13.009990497071248\n",
            "\n",
            "Epoch count: 36 \n",
            "Loss value: 12.725512624093072\n",
            "\n",
            "Epoch count: 37 \n",
            "Loss value: 12.452689110123087\n",
            "\n",
            "Epoch count: 38 \n",
            "Loss value: 12.1905222437456\n",
            "\n",
            "Epoch count: 39 \n",
            "Loss value: 11.938128673092416\n",
            "\n",
            "Epoch count: 40 \n",
            "Loss value: 11.69472552686589\n",
            "\n",
            "Epoch count: 41 \n",
            "Loss value: 11.459618235131359\n",
            "\n",
            "Epoch count: 42 \n",
            "Loss value: 11.2321898413991\n",
            "\n",
            "Epoch count: 43 \n",
            "Loss value: 11.011891623099682\n",
            "\n",
            "Epoch count: 44 \n",
            "Loss value: 10.798234859996056\n",
            "\n",
            "Epoch count: 45 \n",
            "Loss value: 10.590783609763673\n",
            "\n",
            "Epoch count: 46 \n",
            "Loss value: 10.389148367236626\n",
            "\n",
            "Epoch count: 47 \n",
            "Loss value: 10.192980498969888\n",
            "\n",
            "Epoch count: 48 \n",
            "Loss value: 10.001967358057778\n",
            "\n",
            "Epoch count: 49 \n",
            "Loss value: 9.815827995809098\n",
            "\n"
          ]
        }
      ]
    }
  ]
}
{
  "nbformat": 4,
  "nbformat_minor": 0,
  "metadata": {
    "colab": {
      "name": "078_05_01.ipynb",
      "provenance": []
    },
    "kernelspec": {
      "name": "python3",
      "display_name": "Python 3"
    },
    "language_info": {
      "name": "python"
    }
  },
  "cells": [
    {
      "cell_type": "markdown",
      "metadata": {
        "id": "SeM2hAEj5WIf"
      },
      "source": [
        "**Try linear regression just using numpy (without TensorFlow/Pytorch or other libraries)**"
      ]
    },
    {
      "cell_type": "code",
      "metadata": {
        "id": "YPiCLvIGg2uv",
        "colab": {
          "base_uri": "https://localhost:8080/"
        },
        "outputId": "725dff36-c845-4695-8b8a-8471d81200b1"
      },
      "source": [
        "import numpy as np\n",
        "from sklearn.linear_model import LinearRegression\n",
        "\n",
        "data = np.array([[73, 67, 43], [91, 88, 64], [87, 134, 58], [102, 43, 37], \n",
        "                 [69, 96, 70], [73, 67, 43], [91, 88, 64], [87, 134, 58], \n",
        "                 [102, 43, 37], [69, 96, 70], [73, 67, 43],  [91, 88, 64], \n",
        "                 [87, 134, 58], [102, 43, 37], [69, 96, 70]], dtype='float32')\n",
        "print(data.shape)"
      ],
      "execution_count": 9,
      "outputs": [
        {
          "output_type": "stream",
          "name": "stdout",
          "text": [
            "(15, 3)\n"
          ]
        }
      ]
    },
    {
      "cell_type": "code",
      "metadata": {
        "id": "PAt2DJr27JSt"
      },
      "source": [
        "target = np.array([[56, 70], [81, 101], [119, 133], [22, 37], [103, 119], \n",
        "                   [56, 70], [81, 101], [119, 133], [22, 37], [103, 119], \n",
        "                   [56, 70], [81, 101], [119, 133], [22, 37], [103, 119]], \n",
        "                  dtype='float32')"
      ],
      "execution_count": 10,
      "outputs": []
    },
    {
      "cell_type": "code",
      "metadata": {
        "colab": {
          "base_uri": "https://localhost:8080/"
        },
        "id": "gmyP-FBq7bsw",
        "outputId": "fd286ec2-7b1a-41ec-f514-855cac5d1072"
      },
      "source": [
        "from sklearn.model_selection import train_test_split\n",
        "\n",
        "x_train, x_test, y_train, y_test = train_test_split(data, target, test_size=0.25, random_state=78)\n",
        "reg = LinearRegression().fit(x_train, y_train)\n",
        "print(f\"reg:- \\n{reg}\\n\")"
      ],
      "execution_count": 11,
      "outputs": [
        {
          "output_type": "stream",
          "name": "stdout",
          "text": [
            "reg:- \n",
            "LinearRegression(copy_X=True, fit_intercept=True, n_jobs=None, normalize=False)\n",
            "\n"
          ]
        }
      ]
    },
    {
      "cell_type": "code",
      "metadata": {
        "colab": {
          "base_uri": "https://localhost:8080/"
        },
        "id": "bZBZ0v9z9Du6",
        "outputId": "065a4829-c776-4941-818e-91a81988f9d2"
      },
      "source": [
        "print(f\"reg.intercept_ :- \\n{reg.intercept_}\\n\")\n",
        "print(f\"reg.coef_ :- \\n{reg.coef_}\\n\")"
      ],
      "execution_count": 12,
      "outputs": [
        {
          "output_type": "stream",
          "name": "stdout",
          "text": [
            "reg.intercept_ :- \n",
            "[-1.3299713 -2.2399063]\n",
            "\n",
            "reg.coef_ :- \n",
            "[[-0.38991737  0.8378035   0.71353155]\n",
            " [-0.28499374  0.7947048   0.9238994 ]]\n",
            "\n"
          ]
        }
      ]
    },
    {
      "cell_type": "code",
      "metadata": {
        "colab": {
          "base_uri": "https://localhost:8080/"
        },
        "id": "5QEDVRIq9epN",
        "outputId": "142881e1-3810-4523-ebde-60aa1bf44629"
      },
      "source": [
        "y_predict = reg.predict(x_test)\n",
        "print(f\"y_predict:- \\n{y_predict}\\n\")\n",
        "print(f\"y_test:- \\n{y_test}\\n\")"
      ],
      "execution_count": 13,
      "outputs": [
        {
          "output_type": "stream",
          "name": "stdout",
          "text": [
            "y_predict:- \n",
            "[[ 82.58028  100.889244]\n",
            " [118.397705 133.04224 ]\n",
            " [ 57.020752  69.928444]\n",
            " [118.397705 133.04224 ]]\n",
            "\n",
            "y_test:- \n",
            "[[ 81. 101.]\n",
            " [119. 133.]\n",
            " [ 56.  70.]\n",
            " [119. 133.]]\n",
            "\n"
          ]
        }
      ]
    },
    {
      "cell_type": "code",
      "metadata": {
        "colab": {
          "base_uri": "https://localhost:8080/"
        },
        "id": "gKVGijXU-Fla",
        "outputId": "c6002fe8-3906-45a9-ef04-82fc0652e902"
      },
      "source": [
        "from sklearn import metrics\n",
        "\n",
        "print(f\"Mean Squared Error:- \\n{metrics.mean_squared_error(y_test, y_predict)}\\n\")"
      ],
      "execution_count": 14,
      "outputs": [
        {
          "output_type": "stream",
          "name": "stdout",
          "text": [
            "Mean Squared Error:- \n",
            "0.5357102155685425\n",
            "\n"
          ]
        }
      ]
    }
  ]
}